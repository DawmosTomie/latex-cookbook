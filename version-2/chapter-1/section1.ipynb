{
 "cells": [
  {
   "cell_type": "markdown",
   "metadata": {},
   "source": [
    "## 1.1 横空出世的TeX\n",
    "\n",
    "TeX是一种专门用于文档排版的计算机程序语言，同时也是一款文档排版系统，它几乎与微软推出的Office办公软件同时出现。TeX与Office作为人们制作文档常用的两种工具，在制作文档的方式上是截然不同的。TeX在数学公式和科技文档排版方面的能力是其最大优势，尤其在科学技术领域中受到广泛使用，它允许精确的控制，这包括从页面布局到字体选择，同时能保证专业且美观的排版效果。Office办公软件适用于多种文档类型，具有用户友好的界面和强大的多媒体支持，它特别适用于业务、演示和多种文档需求。从用户使用角度来看，Office的使用门槛不高，只要掌握一些基本操作就能够制作文档；而TeX则需要一定的计算机程序语言基础，除一些基本命令外，还要掌握TeX环境和一些特定的宏包。\n",
    "\n",
    "那么TeX是怎么出现的呢？有时候，新生事物的出现往往伴随着一定的契机和巧合。上世纪70年代末，正当克努斯博士准备出版其著作《计算机程序设计艺术》时，他发现出版社提供的排版效果并不理想，当时的计算机排版技术也十分粗糙，这必将严重影响其著作的排版质量，于是，他计划花费几个月的时间开发一款更有效的文档排版系统，具体的开发目标便是实现高质量的书籍排版，一改彼时粗糙的计算机排版技术。\n",
    "\n",
    "<p align=\"center\">\n",
    "<img align=\"middle\" src=\"graphics/Donald_Knuth.jpeg\" width=\"200\" />\n",
    "</p>\n",
    "\n",
    "<center><b>图1-1-1</b> 克努斯博士，注：图片来源为克努斯博士的维基百科网页。</center>\n",
    "\n",
    "由于克努斯博士此次在数学公式的排版上下足了功夫，就在他启动这项计划不久后，他收到了美国数学学会 (American Mathematical Society, AMS) 的邀请，克努斯博士此次受邀的讲座内容是“基于TeX排版，如何让计算机服务于数学”，这次讲座成功吸引了一大批数学家的目光，美国数学学会会员意识到了TeX的重要性，并开始在其出版物中广泛使用TeX技术。由于TeX在数学公式排版方面的出色表现，比如数学公式的自动间距调整，TeX后来摇身一变成为了编辑数学公式的“利器”。\n",
    "\n",
    "> 参考[http://www.tug.org/whatis.html](http://www.tug.org/whatis.html)。\n",
    "\n",
    "为了提升TeX的开发质量，克努斯博士曾悬赏奖励那些能够发现TeX程序漏洞的人，也就是我们一般认为的“找bug”。每一个bug的奖励金额从2.56美元（16进制的100美分）开始，以后每发现一个bug，都会翻倍，直到327.68美元封顶。然而，克努斯博士从未因此而损失大笔金钱，因为TeX中的bug极少，而真正发现bug的人在获得支票后往往因其纪念价值而不愿兑现。\n",
    "\n",
    "随着时间的推移，TeX也派生出了很多优秀的软件，其中最著名的派生软件便是LaTeX。另外，美国数学学会也发布了众多基于TeX的数学公式宏包，其中，以`ams`命名的宏包就有`amsmath`、`amsfonts`、`amssymb`、`amsthm`等，使得数学家能够使用LaTeX创建符合美国数学学会期刊排版规范的文档。美国数学学会通过其出版物、期刊、会议等推广数学研究，TeX的使用与美国数学学会的工作相辅相成，共同促进了数学研究与学术交流。\n",
    "\n",
    "### 参考资料\n",
    "\n",
    "[1] 维基百科中关于TeX的介绍：[https://zh.wikipedia.org/wiki/TeX](https://zh.wikipedia.org/wiki/TeX)."
   ]
  },
  {
   "cell_type": "markdown",
   "metadata": {},
   "source": [
    "【回放】[**1.0 导言**](https://nbviewer.jupyter.org/github/xinychen/latex-cookbook/blob/main/chapter-1/section0.ipynb)\n",
    "\n",
    "【继续】[**1.2 引领浪潮的LaTeX**](https://nbviewer.jupyter.org/github/xinychen/latex-cookbook/blob/main/chapter-1/section2.ipynb)"
   ]
  },
  {
   "cell_type": "markdown",
   "metadata": {},
   "source": [
    "### License\n",
    "\n",
    "<div class=\"alert alert-block alert-danger\">\n",
    "<b>This work is released under the MIT license.</b>\n",
    "</div>"
   ]
  }
 ],
 "metadata": {
  "kernelspec": {
   "display_name": "Python 3",
   "language": "python",
   "name": "python3"
  },
  "language_info": {
   "codemirror_mode": {
    "name": "ipython",
    "version": 3
   },
   "file_extension": ".py",
   "mimetype": "text/x-python",
   "name": "python",
   "nbconvert_exporter": "python",
   "pygments_lexer": "ipython3",
   "version": "3.8.3"
  }
 },
 "nbformat": 4,
 "nbformat_minor": 4
}
