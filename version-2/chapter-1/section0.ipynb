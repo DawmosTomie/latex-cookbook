{
 "cells": [
  {
   "cell_type": "markdown",
   "metadata": {},
   "source": [
    "# 第一章 LaTeX的出现与发展\n",
    "\n",
    "## 导言\n",
    "\n",
    "在1977年，计算机科学家克努斯博士[1]开发了一款名为TeX的文档排版系统。TeX以一种特殊的计算机程序语言形式存在，旨在制作多种类型的技术文档，并在数学公式编辑方面表现出色。实际上，克努斯博士开发TeX的机缘颇为巧合：上世纪70年代，他正计划出版自己的著作，但对出版社提供的排版效果不满意。因此，他开始思考能否开发出一款高质量的文档排版系统，以改进当时印刷出版中的排版质量。今天看来，克努斯博士当时的闪念为后来排版系统的发展带来了深远影响。\n",
    "\n",
    "TeX的文档制作方式极具独特性，它采用计算机程序语言来实现文档排版，与如今广泛使用的办公软件Word等迥然不同，同时，这也导致TeX的使用门槛较高。然而，TeX却拥有多项优点，其中最为人称道的优点是它能够便捷地书写大量复杂的数学公式。\n",
    "\n",
    "以TeX为基础，兰伯特博士于1985年推出了另一款文档排版系统，名为LaTeX，同时引入了宏包的概念。兰伯特博士设计这一系统的初衷在于将人们从繁琐的排版样式等细节中解放出来，使他们能够将精力集中于文档结构与内容的创作上。实际的发展也说明，LaTeX的简洁设计理念确实成功地取代了TeX。随后，许多开发者对最初版本的LaTeX进行了持续的更新与提升，从而形成了如今广泛应用的版本。\n",
    "\n",
    "> [1] Donald E. Knuth，直译名为唐纳德·尔文·克努斯，中文名为高德纳，美国计算机科学家，现代计算机科学的先驱人物，在计算机科学及数学领域著有多部影响深远的著作，于1974年获得图灵奖。\n",
    ">\n",
    "> [2] Leslie Lamport，直译名为莱斯利·兰波特，美国计算机科学家，于2013年获得图灵奖，他获得图灵奖的原因并非在于开发了LaTeX，而是源于他在所研究的学术领域做出的突出贡献。\n",
    "\n",
    "实际上，基于特定的计算机程序语言，LaTeX更类似于一个文档排版的宏包（宏包是“广义的工具包”），提供了宏命令，使得用户可以使用更高层次的语法来书写文档。在使用LaTeX时，通常需要新建一个文档文件，如myfile.tex，正如我们所见，文件的扩展名为.tex，对该文件进行编译即可生成一个PDF文档。与其他计算机程序语言（例如C、C++）不同，LaTeX中的程序语言非常简明，只需多加练习即可熟练掌握。\n",
    "\n",
    "值得注意的是，LaTeX的文档制作功能毫不逊色于常用办公软件Word等。在科技文档、技术报告、学位论文、书籍等多种文档类型的制作中，它都具备显著优势。此外，它还可用于制作幻灯片、信函、海报、简历等甚至进行科技绘图。目前，LaTeX广泛应用于学术界、出版业、科学技术等需要高质量排版的领域。许多书籍、杂志和期刊都采用LaTeX进行排版，以获得专业且精美的排版效果。此外，许多科研工作者还将LaTeX视为必备的“科研神器”。"
   ]
  },
  {
   "cell_type": "markdown",
   "metadata": {},
   "source": [
    "【继续】[**1.1 横空出世的TeX**](https://nbviewer.jupyter.org/github/xinychen/latex-cookbook/blob/main/chapter-1/section1.ipynb)"
   ]
  },
  {
   "cell_type": "markdown",
   "metadata": {},
   "source": [
    "### License\n",
    "\n",
    "<div class=\"alert alert-block alert-danger\">\n",
    "<b>This work is released under the MIT license.</b>\n",
    "</div>"
   ]
  }
 ],
 "metadata": {
  "kernelspec": {
   "display_name": "Python 3",
   "language": "python",
   "name": "python3"
  },
  "language_info": {
   "codemirror_mode": {
    "name": "ipython",
    "version": 3
   },
   "file_extension": ".py",
   "mimetype": "text/x-python",
   "name": "python",
   "nbconvert_exporter": "python",
   "pygments_lexer": "ipython3",
   "version": "3.8.3"
  }
 },
 "nbformat": 4,
 "nbformat_minor": 4
}
