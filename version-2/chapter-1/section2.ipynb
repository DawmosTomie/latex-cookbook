{
 "cells": [
  {
   "cell_type": "markdown",
   "metadata": {},
   "source": [
    "## 1.2 引领浪潮的LaTeX\n",
    "\n",
    "### 1.2.1 LaTeX的出现\n",
    "\n",
    "LaTeX是一款高质量的文档排版系统，在其发音上通常被称为\"Lay-tek\"或者\"Lah-tek\"，而非一般认为的\"Lay-teks\"。LaTeX的历史可以追溯至1984年，当时兰波特博士作为早期开发者发布了LaTeX的最初版本。事实上，LaTeX的诞生完全是兰伯特博士的意外收获。在那个年代，兰伯特博士为了满足自己排版书籍的需要，他在TeX排版系统的基础上，引入了一些特定的宏包。这些宏包为了便于今后重复使用，被构建成了标准的形式。然而，谁曾想，正是这些不经意间开发出的宏包，最终成就了LaTeX的雏形。\n",
    "\n",
    "<p align=\"center\">\n",
    "<img align=\"middle\" src=\"graphics/Leslie_Lamport.jpeg\" width=\"200\" />\n",
    "</p>\n",
    "\n",
    "<center><b>图1-2-1</b> 兰伯特博士，注：图片来源为兰伯特博士的维基百科网页。</center>\n",
    "\n",
    "在很长一段时间里，LaTeX的版本并未经历显著的更新。从技术角度来看，LaTeX的现有架构几近完美，深入人心。LaTeX的最初版本始于上世纪80年代初，由兰伯特博士精心开发而成。当前广泛使用的LaTeX2e版本于1994年问世，自那时起便稳定存在，较长一段时间内几乎未曾大规模更新，甚至于首次更新直到二十多年后的2020年。\n",
    "\n",
    "尽管LaTeX2e的后续版本在上世纪90年代已经得以启动，但时至今日，LaTeX新版仍未进入人们的视野。从开发者兰伯特博士的视角来看，LaTeX的初衷在于降低TeX的使用门槛，充分发挥TeX的强大排版能力，提供高质量、具有强解释性的计算机程序语言。LaTeX最初的设计理念就是简约，因此它的潜在提升空间相对有限，这也是为何LaTeX的后续更新相对较少的原因。"
   ]
  },
  {
   "cell_type": "markdown",
   "metadata": {},
   "source": [
    "### 1.2.2 LaTeX的特点\n",
    "\n",
    "因为多方面的因素，迄今为止，TeX已逐渐淡出人们的视野。然而，在LaTeX中仍然能够显现TeX的影子：在使用LaTeX构建文档时，通常需要创立一个以`.tex`为文件拓展名的文件。通过LaTeX编译器对`.tex`文件进行编译，我们能够生成一个PDF格式的文档。从某种程度而言，LaTeX成功地将TeX的传统延续了下去，并在用户体验和功能上表现突出。\n",
    "\n",
    "对于大多数人而言，诸如Word之类的软件可能是创作各类文档的首选，这些工具易于上手，所见即所得。然而，当我们需要编排几十页甚至上百页的文档时，Word的局限性逐渐显露出来，因为文档排版通常需要投入大量的时间和精力。反观LaTeX，它在文档排版方面具备自动化的优势，能够节省大量时间和精力。此外，LaTeX在插入各种数学公式、表格、图形和引用时，出现索引错误的可能性微乎其微。再加上LaTeX在数学公式排版方面的卓越能力，这些优势均是Word所难以媲美的。\n",
    "\n",
    "在上个世纪80年代和90年代，LaTeX的用户群体规模庞大。然而，随着世纪之交，微软推出的Windows操作系统的迅速发展，以及相应的办公软件Office凭借其便捷性引起了广泛关注，许多LaTeX用户转而选择使用Office。尽管如此，至今，LaTeX的用户群体仍然庞大。这主要归因于LaTeX在文档排版方面的卓越能力。虽然LaTeX具有复杂的语法结构与编译环境，这让许多初学者感到望而却步，然而LaTeX的独特之处在于，它能够让用户专注于内容创作，而无需过多关注繁琐的排版细节。这种特性恰恰迎合了人们对文档质量和效率的追求。基于这一特点，LaTeX的持续受欢迎可以从以下五个方面得到具体解释：\n",
    "\n",
    "- **首要特点，专业排版**：LaTeX被归类为一种专门用于文档创作的计算机程序语言。在众多计算机程序语言中，LaTeX脱颖而出，能够生成具备高水准排版质量的专业文档。\n",
    "\n",
    "- **独特创作方式**：LaTeX的创作方式独具特色。使用LaTeX制作文档时，内容的创作和文档的生成被巧妙分离。这种方式让创作过程与预览创作成果同步进行。相比诸如Word的办公软件，LaTeX使创作者在创作时能够专注于内容，而无需同时牵扯繁琐的排版和格式问题。特别值得一提的是，当文档的篇幅较大时，LaTeX的应用更是能够在文档排版方面高效节省时间与精力。\n",
    "\n",
    "- **简洁逻辑结构**：LaTeX具备简洁的逻辑结构。在LaTeX中，创作者可以运用诸如`chapter`（章）、`section`（节）、`table`（表格）等简单的逻辑结构进行文档创作。因此，相对于常见的计算机程序语言，LaTeX的学习门槛并不过高。\n",
    "\n",
    "- **卓越数学公式与符号支持**：LaTeX在数学公式和特殊符号的支持上表现非凡。作为早期针对数学与计算领域研究人员开发的工具，LaTeX对数学公式和特殊符号有着极高的支持。通过简洁的代码，LaTeX能够生成复杂的数学公式和特殊符号，编译后呈现出优质的排版效果，满足专业需求。\n",
    "\n",
    "- **直接生成PDF文档**：LaTeX编译以`.tex`为拓展名的文件后，可直接生成PDF文档。PDF格式消除了跨平台和兼容性问题，这使得生成的文档可以在各种操作系统上无障碍打开。\n",
    "\n",
    "除了以上五点，LaTeX的多样性也是其亮点之一。LaTeX拥有多种预定义的文档类型，每一种类型对应特定的文档结构和排版样式。从科技论文、技术报告、著作、学位论文，到幻灯片和科技绘图，LaTeX应有尽有。此外，LaTeX也支持图片嵌入、表格设计、引用插入等功能。毫无疑问，LaTeX在科技文档排版领域扮演着重要的角色。"
   ]
  },
  {
   "cell_type": "markdown",
   "metadata": {},
   "source": [
    "自LaTeX问世至今，已构筑起一套成熟且高效的文档创作体系，其要点如下：\n",
    "\n",
    "- 文档类型 (document class)：文档类型扮演了文档排版样式的基础角色。涵盖了多种类型，例如文章 (`article`)、报告 (`report`)、幻灯片 (`beamer`)等。声明文档类型常位于`.tex`文件开头，成为文档创作的第一步。\n",
    "\n",
    "- 宏包 (package)：宏包作为LaTeX的重要辅助工具，可视为通用工具包。通过`\\usepackage{}`指令调用宏包，举例而言，包含颜色命令的宏包为`color`，其引用示例为`\\usepackage{color}`。随着LaTeX的演进，越来越多宏包涌现，既能满足用户创作的特定需求，如制表、插图、绘图等，又能简化LaTeX代码。\n",
    "\n",
    "- 模板 (template)。LaTeX的发展催生了很多视觉与审美效果极好的模板，包括论文模板、幻灯片模板、报告模板甚至著作模板，这些模板能在相当程度上减少创作者在文档排版上的时间开销，也有很多学术刊物会给投稿作者提供相应的LaTeX模板。\n",
    "\n",
    "通过对比LaTeX与Word，我们会发现LaTeX具有以下特点：\n",
    "\n",
    "- **首先，源文件的无格式性**：LaTeX的`.tex`源文件不含格式信息，编译过程中会根据特定模板与指定格式生成PDF文档。如此，LaTeX可轻松实现文档类型的转换、模板的调整以及格式的修改。\n",
    "\n",
    "- **其次，对数学公式、图表及文献索引的支持**：LaTeX在数学公式、图表与文献索引方面的支持超越Word。特别值得强调的是，当文献数量高达数百篇时，在Word中修改参考文献可能是“牵一发而动全身”，费时且耗力。而LaTeX则可借助已整理的`.bib`文件，自动完成文献引用和参考文献生成。"
   ]
  },
  {
   "cell_type": "markdown",
   "metadata": {},
   "source": [
    "### 1.2.3 LaTeX编辑器\n",
    "\n",
    "事实上，配置LaTeX环境涉及两个关键要素，即编译器（compiler）和编辑器（editor），两者并非同一概念。LaTeX编译器，又称为LaTeX编译工具，根据操作系统的特性，可安装相应的编译工具，具体如下：\n",
    "\n",
    "- 对于Linux系统：用户可选择安装TeX Live，该套装不仅包含LaTeX编译器，还搭载了适用的LaTeX编辑器。\n",
    "- Mac OS系统用户：可安装Mac TeX，这一环境不仅具备全面的TeX/LaTeX功能，还内置了适用的LaTeX编辑器。\n",
    "- 在Windows系统中：用户可自行选择安装MiKTeX或TeX Live，这两个选项均提供了完备的TeX/LaTeX环境以及相应的LaTeX编辑器。\n",
    "\n",
    "通常情况下，LaTeX编辑器的界面主要由两个核心部分构成，即LaTeX源代码编辑区域与PDF文档预览区域。以下几款LaTeX编辑器的使用体验较受人推崇：\n",
    "\n",
    "- **TeXworks**：TeX Live自带的一款轻量级编辑器，以其简洁实用的界面备受推崇。\n",
    "- **TeXstudio**：这款编辑器集成了代码编写与文档预览的功能，被认为是高效编辑器的代表之一。\n",
    "- **WinEdt**：CTeX环境自带的编辑器，深受用户喜爱。\n",
    "- **Visual Studio Code**：微软推出的免费文本编辑器，支持多种语言，功能齐备，适用于文本编辑和日常开发等。\n",
    "- **Atom**：这是一款开源的跨平台编辑器，支持多种程序语言，在GitHub上的项目网址为[https://github.com/atom/atom](https://github.com/atom/atom)。\n",
    "\n",
    "综上所述，配置LaTeX环境不仅包含编译器的选择，还涵盖了编辑器的挑选，以确保在文档创作过程中获得令人满意的用户体验。"
   ]
  },
  {
   "cell_type": "markdown",
   "metadata": {},
   "source": [
    "【回放】[**1.1 横空出世的TeX**](https://nbviewer.jupyter.org/github/xinychen/latex-cookbook/blob/main/chapter-1/section1.ipynb)\n",
    "\n",
    "【继续】[**1.3 应运而生的在线系统**](https://nbviewer.jupyter.org/github/xinychen/latex-cookbook/blob/main/chapter-1/section3.ipynb)"
   ]
  },
  {
   "cell_type": "markdown",
   "metadata": {},
   "source": [
    "### License\n",
    "\n",
    "<div class=\"alert alert-block alert-danger\">\n",
    "<b>This work is released under the MIT license.</b>\n",
    "</div>"
   ]
  }
 ],
 "metadata": {
  "kernelspec": {
   "display_name": "Python 3",
   "language": "python",
   "name": "python3"
  },
  "language_info": {
   "codemirror_mode": {
    "name": "ipython",
    "version": 3
   },
   "file_extension": ".py",
   "mimetype": "text/x-python",
   "name": "python",
   "nbconvert_exporter": "python",
   "pygments_lexer": "ipython3",
   "version": "3.8.3"
  }
 },
 "nbformat": 4,
 "nbformat_minor": 4
}
