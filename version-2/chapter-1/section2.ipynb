{
 "cells": [
  {
   "cell_type": "markdown",
   "metadata": {},
   "source": [
    "## 1.2 引领浪潮的LaTeX\n",
    "\n",
    "### 1.2.1 LaTeX的出现\n",
    "\n",
    "LaTeX是一款高质量的文档排版系统，在其发音上通常被称为\"Lay-tek\"或者\"Lah-tek\"，而非一般认为的\"Lay-teks\"。LaTeX的历史可以追溯至1984年，当时兰波特博士作为早期开发者发布了LaTeX的最初版本。事实上，LaTeX的诞生完全是兰伯特博士的意外收获。在那个年代，兰伯特博士为了满足自己排版书籍的需要，他在TeX排版系统的基础上，引入了一些特定的宏包。这些宏包为了便于今后重复使用，被构建成了标准的形式。然而，谁曾想，正是这些不经意间开发出的宏包，最终成就了LaTeX的雏形。\n",
    "\n",
    "<p align=\"center\">\n",
    "<img align=\"middle\" src=\"graphics/Leslie_Lamport.jpeg\" width=\"200\" />\n",
    "</p>\n",
    "\n",
    "<center><b>图1-2-1</b> 兰伯特博士，注：图片来源为兰伯特博士的维基百科网页。</center>\n",
    "\n",
    "在很长一段时间里，LaTeX的版本并未经历显著的更新。从技术角度来看，LaTeX的现有架构几近完美，深入人心。LaTeX的最初版本始于上世纪80年代初，由兰伯特博士精心开发而成。当前广泛使用的LaTeX2e版本于1994年问世，自那时起便稳定存在，较长一段时间内几乎未曾大规模更新，甚至于首次更新直到二十多年后的2020年。\n",
    "\n",
    "尽管LaTeX2e的后续版本在上世纪90年代已经得以启动，但时至今日，LaTeX新版仍未进入人们的视野。从开发者兰伯特博士的视角来看，LaTeX的初衷在于降低TeX的使用门槛，充分发挥TeX的强大排版能力，提供高质量、具有强解释性的计算机程序语言。LaTeX最初的设计理念就是简约，因此它的潜在提升空间相对有限，这也是为何LaTeX的后续更新相对较少的原因。"
   ]
  },
  {
   "cell_type": "markdown",
   "metadata": {},
   "source": [
    "### 1.2.2 LaTeX的特点\n",
    "\n",
    "因为多方面的因素，迄今为止，TeX已逐渐淡出人们的视野。然而，在LaTeX中仍然能够显现TeX的影子：在使用LaTeX构建文档时，通常需要创立一个以`.tex`为文件拓展名的文件。通过LaTeX编译器对`.tex`文件进行编译，我们能够生成一个PDF格式的文档。从某种程度而言，LaTeX成功地将TeX的传统延续了下去，并在用户体验和功能上表现突出。\n",
    "\n",
    "对于大多数人而言，诸如Word之类的软件可能是创作各类文档的首选，这些工具易于上手，所见即所得。然而，当我们需要编排几十页甚至上百页的文档时，Word的局限性逐渐显露出来，因为文档排版通常需要投入大量的时间和精力。反观LaTeX，它在文档排版方面具备自动化的优势，能够节省大量时间和精力。此外，LaTeX在插入各种数学公式、表格、图形和引用时，出现索引错误的可能性微乎其微。再加上LaTeX在数学公式排版方面的卓越能力，这些优势均是Word所难以媲美的。\n",
    "\n",
    "在上个世纪80年代和90年代，LaTeX的用户群体规模庞大。然而，随着世纪之交，微软推出的Windows操作系统的迅速发展，以及相应的办公软件Office凭借其便捷性引起了广泛关注，许多LaTeX用户转而选择使用Office。尽管如此，至今，LaTeX的用户群体仍然庞大。这主要归因于LaTeX在文档排版方面的卓越能力。虽然LaTeX具有复杂的语法结构与编译环境，这让许多初学者感到望而却步，然而LaTeX的独特之处在于，它能够让用户专注于内容创作，而无需过多关注繁琐的排版细节。这种特性恰恰迎合了人们对文档质量和效率的追求。基于这一特点，LaTeX的持续受欢迎可以从以下五个方面得到具体解释：\n",
    "\n",
    "- **首要特点，专业排版**：LaTeX被归类为一种专门用于文档创作的计算机程序语言。在众多计算机程序语言中，LaTeX脱颖而出，能够生成具备高水准排版质量的专业文档。\n",
    "\n",
    "- **独特创作方式**：LaTeX的创作方式独具特色。使用LaTeX制作文档时，内容的创作和文档的生成被巧妙分离。这种方式让创作过程与预览创作成果同步进行。相比诸如Word的办公软件，LaTeX使创作者在创作时能够专注于内容，而无需同时牵扯繁琐的排版和格式问题。特别值得一提的是，当文档的篇幅较大时，LaTeX的应用更是能够在文档排版方面高效节省时间与精力。\n",
    "\n",
    "- **简洁逻辑结构**：LaTeX具备简洁的逻辑结构。在LaTeX中，创作者可以运用诸如`chapter`（章）、`section`（节）、`table`（表格）等简单的逻辑结构进行文档创作。因此，相对于常见的计算机程序语言，LaTeX的学习门槛并不过高。\n",
    "\n",
    "- **卓越数学公式与符号支持**：LaTeX在数学公式和特殊符号的支持上表现非凡。作为早期针对数学与计算领域研究人员开发的工具，LaTeX对数学公式和特殊符号有着极高的支持。通过简洁的代码，LaTeX能够生成复杂的数学公式和特殊符号，编译后呈现出优质的排版效果，满足专业需求。\n",
    "\n",
    "- **直接生成PDF文档**：LaTeX编译以`.tex`为拓展名的文件后，可直接生成PDF文档。PDF格式消除了跨平台和兼容性问题，这使得生成的文档可以在各种操作系统上无障碍打开。\n",
    "\n",
    "除了以上五点，LaTeX的多样性也是其亮点之一。LaTeX拥有多种预定义的文档类型，每一种类型对应特定的文档结构和排版样式。从科技论文、技术报告、著作、学位论文，到幻灯片和科技绘图，LaTeX应有尽有。此外，LaTeX也支持图片嵌入、表格设计、引用插入等功能。毫无疑问，LaTeX在科技文档排版领域扮演着重要的角色。"
   ]
  },
  {
   "cell_type": "markdown",
   "metadata": {},
   "source": [
    "从LaTeX的出现到当下，它已经形成了一套非常成熟且高效的文档制作机制：\n",
    "\n",
    "- 文档类型 (document class)。文档类型是文档排版样式的基调，这些类型包括文章 (`article`)、报告 (`report`)、幻灯片 (`beamer`)等，申明文档类型往往是`.tex`文件的第一行代码，也是文档创作的第一步。\n",
    "\n",
    "- 宏包 (package)。它是LaTeX中的重要辅助工具，也可以把它理解为一般意义上的工具包。在使用时，调用宏包的基本命令为`\\usepackage{}`，举例来说，包含颜色命令的宏包为`color`，其调用语句为`\\usepackage{color}`。随着LaTeX的发展，越来越多的宏包被开发出来，这些宏包能满足特定的需求，如制表、插图、绘图，同时也能让LaTeX代码变得更加简洁。\n",
    "\n",
    "- 模板 (template)。LaTeX的发展催生了很多视觉与审美效果极好的模板，包括论文模板、幻灯片模板、报告模板甚至著作模板，这些模板能在相当程度上减少创作者在文档排版上的时间开销，也有很多学术刊物会给投稿作者提供相应的LaTeX模板。\n",
    "\n",
    "通过对比LaTeX和Word，我们还会看到：\n",
    "\n",
    "- 第一，LaTeX的`.tex`源文件是无格式的，编译过程中，根据设定的特定模板与指定格式输出PDF文档。因此，使用LaTeX制作文档能轻松切换文档类型、调整模板以及修改格式。\n",
    "\n",
    "- 第二，LaTeX对数学公式、图表以及文献索引的支持程度是Word所无法比拟的。尤为特殊的是，当文献数量达到上百篇时，在Word中修改参考文献可能是“牵一发而动全身”，费时耗力，而LaTeX根据已经整理好的`.bib`文件可自动完成文献引用与参考文献生成。"
   ]
  },
  {
   "cell_type": "markdown",
   "metadata": {},
   "source": [
    "### 1.2.3 LaTeX编辑器\n",
    "\n",
    "实际上，配置LaTeX环境包括两部分，即编译器和编辑器，对应的英文表达分别是complier和editor，两者不是一回事。LaTeX编译器又称为LaTeX编译工具，可根据系统属性安装相应的编译工具：\n",
    "\n",
    "- Linux系统：可安装TeX Live，该编辑器拥有LaTeX编辑器；\n",
    "- Mac OS系统：可安装Mac TeX，该编译器拥有完整的TeX/LaTeX环境和LaTeX编辑器；\n",
    "- Windows系统：可安装MiKTeX或TeX Live，两者都拥有完整的TeX/LaTeX环境和LaTeX编辑器。\n",
    "\n",
    "一般而言，LaTeX编辑器的界面大致由两部分组成，即LaTeX源码编译区域与PDF文档预览区域。以下几款LaTeX编辑器的使用体验较受人推崇：\n",
    "\n",
    "- TeXworks：这是TeX Live自带的一款轻量级编辑器。\n",
    "- TeXstudio：这款编辑器集代码编译与文档预览于一身。\n",
    "- WinEdt：这是CTeX自带的一款编辑器。\n",
    "- VS Code：这是微软推出的一款免费文本编辑器，功能包括文本编辑、日常开发等。\n",
    "- Atom：这是一款开源的跨平台编辑器（GitHub网址为[https://github.com/atom/atom](https://github.com/atom/atom)），支持多种程序语言。"
   ]
  },
  {
   "cell_type": "markdown",
   "metadata": {},
   "source": [
    "【回放】[**1.1 横空出世的TeX**](https://nbviewer.jupyter.org/github/xinychen/latex-cookbook/blob/main/chapter-1/section1.ipynb)\n",
    "\n",
    "【继续】[**1.3 应运而生的在线系统**](https://nbviewer.jupyter.org/github/xinychen/latex-cookbook/blob/main/chapter-1/section3.ipynb)"
   ]
  },
  {
   "cell_type": "markdown",
   "metadata": {},
   "source": [
    "### License\n",
    "\n",
    "<div class=\"alert alert-block alert-danger\">\n",
    "<b>This work is released under the MIT license.</b>\n",
    "</div>"
   ]
  }
 ],
 "metadata": {
  "kernelspec": {
   "display_name": "Python 3",
   "language": "python",
   "name": "python3"
  },
  "language_info": {
   "codemirror_mode": {
    "name": "ipython",
    "version": 3
   },
   "file_extension": ".py",
   "mimetype": "text/x-python",
   "name": "python",
   "nbconvert_exporter": "python",
   "pygments_lexer": "ipython3",
   "version": "3.8.3"
  }
 },
 "nbformat": 4,
 "nbformat_minor": 4
}
