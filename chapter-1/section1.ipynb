{
 "cells": [
  {
   "cell_type": "markdown",
   "metadata": {},
   "source": [
    "## 1.1 横空出世的TeX\n",
    "\n",
    "TeX是一种专门用于文档排版的计算机程序语言，同时也是一款文档排版系统，它几乎和微软推出的Office办公软件同时出现，TeX和Office后来成为人们制作文档的两种最佳工具。TeX和Office制作文档的方式截然不同，Office的使用门槛并不高，只要掌握一些基本操作就能够制作文档；而TeX则需要一定的计算机编程基础，除了一些基本命令，还要掌握TeX环境和一些特定的宏包。在实践中，TeX以其高质量、高效率的排版输出，特别是对数学公式的排版能力而闻名，被科研工作者广泛用于科技文档的制作当中。\n",
    "\n",
    "那么TeX是怎么出现的呢？有时候，新生事物的出现往往会伴随着一定的契机和巧合。在20世纪70年代末，正当克努斯博士准备出版其著作《计算机程序设计艺术》时，他发现出版社提供的排版效果并不理想，甚至在他眼里十分粗糙，这将严重影响其著作的印刷质量，于是，他计划花费几个月的时间开发出一套更有效的文档排版系统，具体的开发目标是实现高质量的书籍排版，一改彼时粗糙的计算机排版技术。\n",
    "\n",
    "<p align=\"center\">\n",
    "<img align=\"middle\" src=\"graphics/Donald_Knuth.jpeg\" width=\"200\" />\n",
    "</p>\n",
    "\n",
    "<center><b>图1.1</b> 克努斯博士，注：图片来源为克努斯博士的维基百科网页。</center>\n",
    "\n",
    "\n",
    "由于克努斯博士此次在数学公式的排版上下足了功夫，就在他启动这项计划不久后，他收到了美国数学协会 (American Mathematical Society, AMS) 的邀请，克努斯博士在此次邀请中汇报的内容是“基于TeX排版，如何让计算机服务于数学”，这次汇报成功吸引了一大批数学家的目光。由于TeX在数学公式排版方面的优秀表现，比如数学公式的自动间距调整，TeX后来摇身一变成为了书写数学公式的“利器”。\n",
    "\n",
    "> 参考[http://www.tug.org/whatis.html](http://www.tug.org/whatis.html)。\n",
    "\n",
    "为了提升TeX的开发质量，克努斯博士悬赏奖励任何能够在TeX中发现程序漏洞的人，也就是我们一般认为的“找bug”。每一个bug的奖励金额从2.56美元（16进制的100美分）开始，以后每发现一个bug，都会翻倍，直到327.68美元封顶。然而，克努斯博士从未因此而损失大笔金钱，因为TeX中的bug极少，而真正发现bug的人在获得支票后往往因其纪念价值而不愿兑现。\n",
    "\n",
    "随着时间的推移，TeX也派生出了很多优秀的软件，其中最著名的派生软件便是LaTeX。另外，美国数学学会也发布了TeX版本的数学公式宏包，其中，以`ams`命名的宏包就有`amsfonts`、`amsmath`、`amssymb`等，这些宏包都可以在LaTeX上进行使用，在LaTeX上使用这些宏包可以编辑出各种数学公式。\n",
    "\n",
    "\n",
    "### 参考资料\n",
    "\n",
    "[1] TeX的维基百科介绍：[https://zh.wikipedia.org/wiki/TeX](https://zh.wikipedia.org/wiki/TeX)."
   ]
  },
  {
   "cell_type": "markdown",
   "metadata": {},
   "source": [
    "【回放】[**1.0 导言**](https://nbviewer.jupyter.org/github/xinychen/latex-cookbook/blob/main/chapter-1/section0.ipynb)\n",
    "\n",
    "【继续】[**1.2 引领浪潮的LaTeX**](https://nbviewer.jupyter.org/github/xinychen/latex-cookbook/blob/main/chapter-1/section2.ipynb)"
   ]
  },
  {
   "cell_type": "markdown",
   "metadata": {},
   "source": [
    "### License\n",
    "\n",
    "<div class=\"alert alert-block alert-danger\">\n",
    "<b>This work is released under the MIT license.</b>\n",
    "</div>"
   ]
  }
 ],
 "metadata": {
  "kernelspec": {
   "display_name": "Python 3",
   "language": "python",
   "name": "python3"
  },
  "language_info": {
   "codemirror_mode": {
    "name": "ipython",
    "version": 3
   },
   "file_extension": ".py",
   "mimetype": "text/x-python",
   "name": "python",
   "nbconvert_exporter": "python",
   "pygments_lexer": "ipython3",
   "version": "3.8.3"
  }
 },
 "nbformat": 4,
 "nbformat_minor": 4
}
