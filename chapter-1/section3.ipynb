{
 "cells": [
  {
   "cell_type": "markdown",
   "metadata": {},
   "source": [
    "## 1.3 应运而生的在线系统\n",
    "\n",
    "### 1.3.1 LaTeX在线系统的出现\n",
    "\n",
    "上世纪80年代，LaTeX作为一件新生事物，在发布之初便引起了人们极大的兴趣，虽然在制作文档方面拥有很多办公软件都无法比拟的强大优势，尤其在数学公式编写及高效排版上具有很大优势，但是由于其较高的使用门槛（使用计算机程序语言进行编译）和安装成本（本地安装需要花费大量的时间配置相应的环境），在很长一段时间里，LaTeX主要用户都是科研工作者。然而，LaTeX在线系统的出现已实实在在地改变了这一尴尬局面。\n",
    "\n",
    "随着信息技术快速发展、互联网深度普及，人们的工作生活方式也在发生着很大改变，很多过去安装在本地的操作软件都被搬到了浏览器上，人们无须在个人计算机上安装各类办公软件就能进行办公，这带来了极大的便利。不过这类在线系统也存在一些先决条件，例如，出于计算资源方面的考虑，通常要求在线系统的类型不能是计算密集型，因为计算密集型的在线系统往往需要大量的计算资源作支撑。反观LaTeX，尽管我们可以认为LaTeX是一种计算机程序语言，但实际上，其对计算资源的需求并不是很大。\n",
    "\n",
    "在过去，受网速限制，使用线上系统几乎是一件难以想象的事。而现在，在线系统的兴起与互联网的发展也息息相关，一方面是目前的网速已经跟过去发生了质的变化，另一方面则是上网成本在急剧降低，互联网触手可及，已经成为人们日常生活和工作中不可或缺的一部分。以前，我们可能已经习惯了在本地计算机上安装和使用各类软件或者集成开发环境，不过以LaTeX为例，在本地计算机上安装的集成开发环境也有很多缺陷：\n",
    "\n",
    "- 第一，我们需要为安装LaTeX编辑器腾出很大的存储空间。\n",
    "- 第二，某些特定的宏包需要额外安装和配置，但安装过多宏包之后又会使LaTeX变得很臃肿，甚至是不友好。\n",
    "- 第三，当我们在本地计算机使用LaTeX制作文档时，我们很难与合作者进行协同创作。\n",
    "\n",
    "在这个背景下，一些成熟的LaTeX在线系统逐渐走进人们的视野，并受到很多用户的喜爱，其中，最为著名的LaTeX在线系统便是overleaf.com。这些LaTeX在线系统不仅支持各种语言、各种拓展宏包等复杂的LaTeX环境，同时也支持实时编译和实时预览编译后的文档，就算是换一台电脑，也丝毫不会影响创作过程，创作完成之后，可以选择下载压缩文件包（如`.zip`），也可以只导出PDF文档，毫无疑问，这些人性化的设计都是为了让LaTeX更加便捷和高效。除此之外，现有的LaTeX在线系统还提供大量的LaTeX模板库，科技论文、毕业设计、幻灯片、海报、简历等参考模板一应俱全，就连LaTeX使用文档也数不胜数。\n",
    "\n",
    "> Overleaf是一个初创的科技企业，它的主要业务是构建现代化协作创作工具，即LaTeX在线系统，旨在让科学研究变得更加便捷和高效。目前，Overleaf已合并另一款著名的LaTeX在线系统ShareLaTeX，在全球范围内拥有超过600万用户，这些用户大多是来自于高校和研究机构的研究人员、老师以及学生，只要打开网址overleaf.com，用户无需在本地计算机配置LaTeX环境就可以创建各种LaTeX项目。关于Overleaf的介绍可参考[https://www.overleaf.com/about](https://www.overleaf.com/about)。\n",
    "\n",
    "<p align=\"center\">\n",
    "<img align=\"middle\" src=\"graphics/overleaf_webpage.png\" width=\"900\" />\n",
    "</p>\n",
    "\n",
    "<center><b>图1.3</b> Overleaf首页，图片来源于Overleaf官网。</center>\n",
    "\n",
    "### 1.3.2 LaTeX在线系统的特点\n",
    "\n",
    "以Overleaf为例，该LaTeX在线系统往往具备以下几点特征：\n",
    "\n",
    "- 免费和开源。可以免费注册和使用，不用下载和安装LaTeX编辑器，这一点对于初学者来说无疑是非常友好的。\n",
    "- 使用简单。不管是在计算机、手机还是其他终端上，我们只需要使用浏览器打开overleaf.com就可以开始创作，另外，由于Overleaf界面非常简洁，所以用户使用起来也非常便利。\n",
    "- 支持实时在线编辑。有各类LaTeX插件，编辑功能十分完善，且具有实时编译和预览功能。\n",
    "- 支持在线协作。创作文档时，我们可以将文档项目分享给合作者进行协作，Overleaf支持实时编译，不会出现版本控制混乱等问题。\n",
    "- 支持双向定位。可以在LaTeX代码与PDF文档内容之间进行双向定位。\n",
    "- 提供丰富的模板库。Overleaf有着非常庞大的模板库，不仅有正式的学术论文、学位论文和书籍的参考模板，还有很多美观的报告、简历、幻灯片模板。就论文写作来说，用户可以在Overleaf官网找到众多期刊的LaTeX模板，根据使用说明，用户很容易就能用于撰写自己的论文。\n",
    "- 提供大量的帮助文档。LaTeX提供了齐全的帮助文档，从LaTeX快速入门、基础操作到编译数学公式，应有尽有、一应俱全，且这些文档内容具有很强的实操性。\n",
    "\n",
    "<p align=\"center\">\n",
    "<img align=\"middle\" src=\"graphics/overleaf_example.png\" width=\"900\" />\n",
    "</p>\n",
    "\n",
    "<center><b>图1.4</b> Overleaf编辑器界面，主要由代码区域和文档预览区域组成。</center>\n",
    "\n",
    "LaTeX在线系统的出现大大降低了LaTeX的使用门槛，也为用户省去了繁琐的安装和配置过程。其实，LaTeX在线系统的出现并非个例，很多办公软件为迎合用户需求和时代发展趋势，陆续转变了产品研发思路，包括微软在线Office系统、腾讯在线文档等在内的很多在线系统都走进了人们的视野，这些在线系统能够在线备份、满足人们对随时随地办公的需求，在确保便捷和高效的同时，在线和共享的理念正在潜移默化地影响着人们的办公模式。\n"
   ]
  },
  {
   "cell_type": "markdown",
   "metadata": {},
   "source": [
    "【回放】[**1.2 引领浪潮的LaTeX**](https://nbviewer.jupyter.org/github/xinychen/latex-cookbook/blob/main/chapter-1/section2.ipynb)\n",
    "\n",
    "【继续】[**1.4 LaTeX问答社区**](https://nbviewer.jupyter.org/github/xinychen/latex-cookbook/blob/main/chapter-1/section4.ipynb)"
   ]
  },
  {
   "cell_type": "markdown",
   "metadata": {},
   "source": [
    "### License\n",
    "\n",
    "<div class=\"alert alert-block alert-danger\">\n",
    "<b>This work is released under the MIT license.</b>\n",
    "</div>"
   ]
  }
 ],
 "metadata": {
  "kernelspec": {
   "display_name": "Python 3",
   "language": "python",
   "name": "python3"
  },
  "language_info": {
   "codemirror_mode": {
    "name": "ipython",
    "version": 3
   },
   "file_extension": ".py",
   "mimetype": "text/x-python",
   "name": "python",
   "nbconvert_exporter": "python",
   "pygments_lexer": "ipython3",
   "version": "3.8.3"
  }
 },
 "nbformat": 4,
 "nbformat_minor": 4
}
