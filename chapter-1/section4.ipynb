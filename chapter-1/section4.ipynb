{
 "cells": [
  {
   "cell_type": "markdown",
   "metadata": {},
   "source": [
    "## 1.4 LaTeX问答社区\n",
    "\n",
    "在LaTeX刚被发布和推出的那个年代，相关资源如使用手册、教程等远没有今天这么丰富，同时，获取渠道也没有今天这么便捷。在互联网触手可及的今天，我们能通过一个浏览器访问到各种相关学习素材，遇到代码bug，也能在一些专业的问答社区找到最佳的解决方案。毫无疑问，对于今天的我们来说，如何利用好互联网资源至关重要。\n",
    "\n",
    "### 1.4.1 问答社区的介绍\n",
    "\n",
    "对于从事计算机相关的技术人员来说，专业的技术问答社区往往是不可多得的资源，它能帮助很多技术人员提升个人编程能力、学习新技术，同时解决一些技术困扰，例如解决编程时遇到的bug。对于各类计算机程序语言而言，Stack Exchange作为一个著名的技术问答社区，覆盖了大量编程相关的技术问题和优质回答，就算是一些较为细致的问题，我们往往都能找到想要的答案。Stack Exchange问答社区按计算机程序语言类型进行划分，我们所关心的LaTeX问答通常被分配在TeX Stack Exchange社区（网址为[https://tex.stackexchange.com/](https://tex.stackexchange.com/)）。截至目前，TeX Stack Exchange已经覆盖了关于TeX、LaTeX以及其他排版系统的用户在使用中遇到的诸多问题，并且这些问题多与LaTeX相关。\n",
    "\n",
    "> 网址为[https://stackexchange.com/](https://stackexchange.com/)，它与Stack Overflow问答社区一样在全球范围内拥有广泛的用户群体。\n",
    "\n",
    "<p align=\"center\">\n",
    "<img align=\"middle\" src=\"graphics/tex_stackexchange_webpage.png\" width=\"900\" />\n",
    "</p>\n",
    "\n",
    "<center><b>图1.5</b> https://tex.stackexchange.com/首页，该问答社区支持内容搜索，我们也可以根据需要在首页显示当前热门问题、当月高频访问问题等。</center>\n",
    "\n",
    "除了Stack Exchange这种涵盖了多种计算机程序语言的技术问答社区，LaTeX forum社区（[https://latex.org/forum/](https://latex.org/forum/)）是一个专门面向LaTeX的技术交流平台，它拥有非常活跃的用户群体和丰富的问答资源，并拥有超过10万篇分门别类的技术帖子，我们可以根据浏览量从该平台一览高频访问问题。\n",
    "\n",
    "<p align=\"center\">\n",
    "<img align=\"middle\" src=\"graphics/latex_forum_webpage.png\" width=\"900\" />\n",
    "</p>\n",
    "\n",
    "<center><b>图1.6</b> https://latex.org/forum/首页，该问答社区已经将帖子按照话题进行分门别类，我们可以看到：涉及“图表”（Graphics, Figures & Tables）的帖子已超过15000篇，涉及文本排版（text formatting）的帖子已超过10000篇。</center>\n",
    "\n",
    "实际上，不管是LaTeX初学者还是高级用户，在遇到LaTeX使用问题时，去问答社区寻找解决方案都是一种非常有效的方式。TeX Stack Exchange社区非常活跃，每天都会有大量关于LaTeX的问题和回答，且每个问题下面的回答都会根据用户的认可度进行排序，回答一般比较细致。"
   ]
  },
  {
   "cell_type": "markdown",
   "metadata": {},
   "source": [
    "### 1.4.2 高频访问问题\n",
    "\n",
    "顾名思义，高频访问问题是指访问量较高的问题。LaTeX forum社区已经将众多问答帖子进行了分门别类整理，针对某一特定话题，展开内容即可看到各类问题的访问情况。\n",
    "\n",
    "<p align=\"center\">\n",
    "<img align=\"middle\" src=\"graphics/latex_forum_math_science.png\" width=\"750\" />\n",
    "</p>\n",
    "\n",
    "<center><b>图1.7</b> LaTeX forum社区中涉及“数学和科学”（math & science）话题的帖子，这里已经按照访问量对问答帖子进行了排序，图片来自于https://latex.org/forum/。</center>\n"
   ]
  },
  {
   "cell_type": "markdown",
   "metadata": {},
   "source": [
    "【回放】[**1.3 应运而生的在线系统**](https://nbviewer.jupyter.org/github/xinychen/latex-cookbook/blob/main/chapter-1/section3.ipynb)\n",
    "\n",
    "【继续】[**1.5 关于LaTeX的开源项目**](https://nbviewer.jupyter.org/github/xinychen/latex-cookbook/blob/main/chapter-1/section5.ipynb)"
   ]
  },
  {
   "cell_type": "markdown",
   "metadata": {},
   "source": [
    "### License\n",
    "\n",
    "<div class=\"alert alert-block alert-danger\">\n",
    "<b>This work is released under the MIT license.</b>\n",
    "</div>"
   ]
  }
 ],
 "metadata": {
  "kernelspec": {
   "display_name": "Python 3",
   "language": "python",
   "name": "python3"
  },
  "language_info": {
   "codemirror_mode": {
    "name": "ipython",
    "version": 3
   },
   "file_extension": ".py",
   "mimetype": "text/x-python",
   "name": "python",
   "nbconvert_exporter": "python",
   "pygments_lexer": "ipython3",
   "version": "3.8.3"
  }
 },
 "nbformat": 4,
 "nbformat_minor": 4
}
