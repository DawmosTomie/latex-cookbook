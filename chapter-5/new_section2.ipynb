{
 "cells": [
  {
   "cell_type": "markdown",
   "id": "92a9ee4f",
   "metadata": {},
   "source": [
    "## 5.2 调整表格内容\n",
    "\n",
    "在表格进行了初步的建立以后，首先需要对表格里面的内容进行调整，主要包括表格字体大小、表格表注、插入斜线、文本对齐、数字位数对齐等。\n"
   ]
  },
  {
   "cell_type": "markdown",
   "id": "286dce66",
   "metadata": {},
   "source": [
    "### 5.2.1 调整字体大小\n",
    "\n",
    "在文本编辑中我们知道：调整字体大小的方式有全局的，也有局部的，全局的方式是文档类型中指定字体大小，例如12pt，而局部的方式则是通过一系列命令，例如`\\large、Large、huge、\\fontsize`等。使用LaTeX新建表格时，我们也可以对表格内字体大小做调整。\n",
    "\n",
    "【**例5-2-1**】使用\\Large命令调整表格字体大小。\n",
    "\n",
    "```tex\n",
    "\\documentclass[12pt]{article}\n",
    "\\usepackage{booktabs}\n",
    "\\begin{document}\n",
    "% 正常字体大小\n",
    "\n",
    "\\begin{table}\n",
    "    \\centering\n",
    "    \\begin{tabular}{|l|l|l|l|}\n",
    "        \\hline\n",
    "        Column1 & Column2 & Column3 & Column4\\\\\n",
    "        \\hline\n",
    "        A1 & A2 & A3 & A4\\\\\n",
    "        \\hline\n",
    "        B1 & B2 & B3 & B4\\\\\n",
    "        \\hline\n",
    "        C1 & C2 & C3 & C4\\\\\n",
    "        \\hline\n",
    "    \\end{tabular}\n",
    "\\end{table}\n",
    "% Large字体大小\n",
    "\\begin{table}\n",
    "    \\Large\n",
    "    \\centering\n",
    "    \\begin{tabular}{|l|l|l|l|}\n",
    "        \\hline\n",
    "        Column1 & Column2 & Column3 & Column4\\\\\n",
    "        \\hline\n",
    "        A1 & A2 & A3 & A4\\\\\n",
    "        \\hline\n",
    "        B1 & B2 & B3 & B4\\\\\n",
    "        \\hline\n",
    "        C1 & C2 & C3 & C4\\\\\n",
    "        \\hline\n",
    "    \\end{tabular}\n",
    "\\end{table}\n",
    "\n",
    "\\end{document}\n",
    "```"
   ]
  },
  {
   "attachments": {},
   "cell_type": "markdown",
   "id": "4fd37a28",
   "metadata": {},
   "source": [
    "### 5.2.2 插入表格注释\n",
    "\n",
    "表格中的文本应当尽可能地保持简洁明了。因此，在保持简明的基础上，可以采用注释的方式以添加必要的细节对文本内容进行说明补充。通常，在以表格为载体的内容中，为了保持表格内容的完整性和独立性，我们往往不采用脚注`\\footnote{}`的形式，而是将注释添加在表格底部（称之为表注）。"
   ]
  },
  {
   "cell_type": "markdown",
   "id": "348222d7",
   "metadata": {},
   "source": [
    "### 5.2.3 插入各类斜线\n",
    "\n",
    "有时候，在论文写作过程中，需要在第一个单元格内声明表格行列所表示的内容分别是什么，因此要用到斜线。在LaTeX中，我们可以通过调用`diagbox`宏包及其提供的`\\diagbox[参数]{单元格内容1}…{单元格内容n}`命令将一个单元格划分为n个部分（即插入(n-1)条斜线），并且可以在[]中设置不同参数，从而对斜线宽度、高度、方向等属性进行调整，主要包括："
   ]
  },
  {
   "cell_type": "markdown",
   "id": "df8baa46",
   "metadata": {},
   "source": [
    "### 5.2.4 文本对齐换行\n",
    "\n",
    "#### 自动对齐换行\n",
    "\n",
    "\n",
    "\n",
    "#### 人工强制换行"
   ]
  },
  {
   "cell_type": "markdown",
   "id": "248bf7e7",
   "metadata": {},
   "source": [
    "### 5.2.5 数字位数对齐\n",
    "\n",
    "为了更好地描述数据，在表格中常常将数据在小数点处进行对齐，在LaTeX中我们可以通过使用`dcolumn`包实现这一目的。这个包提供了一个名为`D`的列类型，可以方便实现基于小数点的数字对齐以及基于其它符号的对齐，使用方式为`D{输入符号}{输出符号}{符号后的数字位数}`。对于基于小数点的数字对齐，输入符号一般为“.”；有时需要根据特定符号进行数字对齐，比如千分位逗号，这时输入符号即为“,”。例如，`D{.}{\\cdot}{2}`表示将某列的数据根据“.”符号对齐，输出时将该符号显示为点乘符号，并且显示2个小数位数。\n",
    "\n",
    "列类型D可以像其它列类型一样在表格环境的开始命令处直接进行设置，但会导致语句过长，所以一般使用`array`宏包的`\\newcolumntype`命令定义一个新的列类型，并为这个列类型赋予一个比较短的名称以方便调用。定义新的列类型的语句为`\\newcolumntype{新列类型名称}[新列类型的参数个数]{定义新列类型}`，例如：`\\newcolumntype{d}[1]{D{.}{\\cdot}{#1}}`表示创建一个名为d的新列类型，该列类型的内容为`D{.}{\\cdot}{符号后的数字位数}`，其中数字位数是传给d的参数。"
   ]
  },
  {
   "cell_type": "code",
   "execution_count": null,
   "id": "c0a5d4f7",
   "metadata": {},
   "outputs": [],
   "source": []
  }
 ],
 "metadata": {
  "kernelspec": {
   "display_name": "Python 3",
   "language": "python",
   "name": "python3"
  },
  "language_info": {
   "codemirror_mode": {
    "name": "ipython",
    "version": 3
   },
   "file_extension": ".py",
   "mimetype": "text/x-python",
   "name": "python",
   "nbconvert_exporter": "python",
   "pygments_lexer": "ipython3",
   "version": "3.8.8"
  }
 },
 "nbformat": 4,
 "nbformat_minor": 5
}
