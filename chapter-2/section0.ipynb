{
 "cells": [
  {
   "cell_type": "markdown",
   "metadata": {},
   "source": [
    "# 第二章 LaTeX基础及文档类型\n",
    "\n",
    "## 导言\n",
    "\n",
    "LaTeX是一款基于TeX计算机程序语言的文档排版系统，它沿用了TeX语法规则，但却相比TeX更加灵活，适合制作各类文档。一般而言，LaTeX语法规则是由命令 (command) 和环境 (environment) 构成，基于一些基本命令来实现一些特定功能，例如，使用`\\usepackage{}`命令能帮我们调用制作文档所需的宏包。\n",
    "\n",
    "从代码结构上看，LaTeX制作文档的代码分为前导 (preamble) 和主体 (body) 两部分，前导部分的代码主要用于申明文档类型、设置排版样式、调用所需宏包、定义特殊命令等；主体部分主要用于确定标题、章节、目录等文章结构及创作文档内容，两部分是相对独立的。这样的代码结构其实能为我们提供诸多便利，举例来说，文档内容创作完成后，我们只需修改前导代码就可调整文档的排版样式。\n",
    "\n",
    "掌握一些常用命令之后，我们便可上手编辑简单的文档。从功能上来说，LaTeX能满足人们对文档制作多样性的要求。我们可以用LaTeX制作各类文档，包括科技文档、技术报告、学位论文、书籍著作、幻灯片、个人简历、信件以及海报。不同的文档类型在文档大小、排版、章节样式方面略有不同，所以在使用LaTeX制作文档时，我们首先需要对文档类型进行申明，然后再进行文档内容的创作。\n",
    "\n",
    "本章节要介绍的内容主要包括：Latex语法规则、Latex代码结构、文档类型的介绍、简单文档的制作以及全局格式的设置。"
   ]
  },
  {
   "cell_type": "markdown",
   "metadata": {},
   "source": [
    "【继续】[**2.1 LaTeX语法规则**](https://nbviewer.jupyter.org/github/xinychen/latex-cookbook/blob/main/chapter-2/section1.ipynb)"
   ]
  },
  {
   "cell_type": "markdown",
   "metadata": {},
   "source": [
    "### License\n",
    "\n",
    "<div class=\"alert alert-block alert-danger\">\n",
    "<b>This work is released under the MIT license.</b>\n",
    "</div>"
   ]
  }
 ],
 "metadata": {
  "kernelspec": {
   "display_name": "Python 3",
   "language": "python",
   "name": "python3"
  },
  "language_info": {
   "codemirror_mode": {
    "name": "ipython",
    "version": 3
   },
   "file_extension": ".py",
   "mimetype": "text/x-python",
   "name": "python",
   "nbconvert_exporter": "python",
   "pygments_lexer": "ipython3",
   "version": "3.8.3"
  }
 },
 "nbformat": 4,
 "nbformat_minor": 4
}
