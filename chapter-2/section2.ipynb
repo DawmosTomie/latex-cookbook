{
 "cells": [
  {
   "cell_type": "markdown",
   "metadata": {},
   "source": [
    "## 2.2 LaTeX代码结构\n",
    "\n",
    "在使用LaTeX进行文档编辑时，我们通常在拓展名为`.tex`的源文件中书写代码，然后通过编译，生成一个PDF格式的文档。LaTeX源文件的代码结构主要包含两个部分，即前导代码（preamble）和主体代码（body），其结构示例如下：\n",
    "\n",
    "```tex\n",
    "\\documentclass[]{}\n",
    "\n",
    "...... % 前导代码（preamble）\n",
    "\n",
    "\\begin{document}\n",
    "\n",
    "...... % 主体代码（body）\n",
    "\n",
    "\\end{document}\n",
    "```\n",
    "\n",
    "### 2.2.1 前导代码\n",
    "\n",
    "前导代码是指从源文件第一行代码到`\\begin{document}`之间的所有命令语句，一般为LaTeX代码的第一部分。在前导代码部分，既可设置文档类型全局参数，包括字体大小、纸张大小、文字分栏、单双面打印设置等，也可声明主体代码中需要用到的宏包，如插入图形、新增表格所要用到的宏包。当全局格式没有特殊申明时，前导代码中的文档类型申明语句可以简写成`\\documentclass{B}`，其中，位置B的作用在于申明文档类型，如article（常规文档）、book（书籍）、report（报告）、beamer（幻灯片）等。\n",
    "\n",
    "下面以常规文档（article）为例，简要介绍各常用全局参数的设置方式。\n",
    "\n",
    "\n",
    "#### 字体大小\n",
    "\n",
    "article类型文档字体大小默认为10pt，可在`\\documentclass[可省参数]{article}`的中括号中根据需要设置成11pt和12pt。\n",
    "\n",
    "【**例2-3**】创建一个简单文档，将字体大小调整为12pt。\n",
    "\n",
    "```tex\n",
    "\\documentclass[fontsize=12pt]{article}\n",
    "\n",
    "\\begin{document}\n",
    "\n",
    "Hello, LaTeXers! This is our first LaTeX document.\n",
    "\n",
    "\\end{document}\n",
    "```\n",
    "\n",
    "编译上述代码，得到文档如图2.2.1所示。\n",
    "\n",
    "<p align=\"center\">\n",
    "<img align=\"middle\" src=\"graphics/example2_1.png\" width=\"800\" />\n",
    "</p>\n",
    "\n",
    "<center><b>图2.2.1</b> 编译后的文档</center>\n",
    "\n",
    "通常，我们按照`\\documentclass[fontsize = 12pt]{article}`这样的形式设置文档参数，有时候，为了方便起见，可以把文档类型申明做一定的简写，如`\\documentclass[12pt]{article}`。需要注意的是，字体大小设置中的基本单位pt是英文单词point的缩写，是一个物理长度单位，指的是72分之一英寸，即1pt等于1/72英寸。"
   ]
  },
  {
   "cell_type": "markdown",
   "metadata": {},
   "source": [
    "#### 纸张大小\n",
    "\n",
    "article类型文档纸张大小默认为letterpaper，同样可在`\\documentclass[可省参数]{article}`的中括号中根据需要设置成a4paper、a5paper、b5paper、legalpaper和executivepaper。\n",
    "\n",
    "【**例2-4**】创建一个简单文档，将字体大小调整为12pt、纸张大小调整为b5paper。\n",
    "\n",
    "```tex\n",
    "\\documentclass[fontsize=12pt, paper=b5paper]{article}\n",
    "\n",
    "\\begin{document}\n",
    "\n",
    "Hello, LaTeXers! This is our first LaTeX document.\n",
    "\n",
    "\\end{document}\n",
    "```\n",
    "\n",
    "编译上述代码，得到的文档纸张大小为B5。"
   ]
  },
  {
   "cell_type": "markdown",
   "metadata": {},
   "source": [
    "#### 文字分栏\n",
    "\n",
    "article类型文档的文字分栏默认为onecolumn（不分栏），也可以使用`twocolumn`参数设置为twocolumn（两栏）。\n",
    "\n",
    "\n",
    "【**例2-5**】创建一个简单文档，将正文分为两栏。\n",
    "\n",
    "```tex\n",
    "\\documentclass[12pt, b5paper, twocolumn]{article}\n",
    "\n",
    "\\begin{document}\n",
    "\n",
    "Hello, LaTeXers! This is our first LaTeX document.\n",
    "\n",
    "\\newpage\n",
    "\n",
    "Hello, LaTeXers! This is our first LaTeX document.\n",
    "\n",
    "\\end{document}\n",
    "```\n",
    "\n",
    "编译上述代码，得到文档如图2.2.2所示。\n",
    "\n",
    "<p align=\"center\">\n",
    "<img align=\"middle\" src=\"graphics/example2_3.png\" width=\"800\" />\n",
    "</p>\n",
    "\n",
    "<center><b>图2.2.2</b> 编译后的文档</center>"
   ]
  },
  {
   "cell_type": "markdown",
   "metadata": {},
   "source": [
    "#### 单双面打印设置\n",
    "\n",
    "article类型文档打印时默认单面打印，同样可以使用`\\documentclass[可省参数]{article}`中括号中的可选参数，通过添加`twoside`参数进行双面打印的设置。\n",
    "\n",
    "【**例2-6**】创建一个简单文档，设置双面打印。\n",
    "\n",
    "```tex\n",
    "\\documentclass[12pt, b5paper, twoside]{article}\n",
    "\n",
    "\\begin{document}\n",
    "\n",
    "Hello, LaTeXers! This is our first LaTeX document.\n",
    "\n",
    "\\newpage\n",
    "\n",
    "Hello, LaTeXers! This is our first LaTeX document.\n",
    "\n",
    "\\end{document}\n",
    "```\n",
    "\n",
    "上述可省参数的顺序均可随意调整，任意组合，例如`\\documentclass[a4paper, 11pt, twoside]{article}`对应着文档类型为article、纸张大小为A4、字体大小为11pt的双面打印文档。`\\documentclass[a4paper, twoside, 11pt]{article}`也对应着文档类型为article、纸张大小为A4、字体大小为11pt的双面打印文档。当然，除了这几个最为常用的全局参数外，还有其他全局参数可供调整，考虑到其他全局参数用到的机会比较少，这里不做过多讨论。"
   ]
  },
  {
   "cell_type": "markdown",
   "metadata": {},
   "source": [
    "### 2.2.2 主体代码\n",
    "\n",
    "主体代码为`\\begin{document}`及`\\end{document}`之间所有的命令语句和文本，一般由文档的创作内容构成，按照一般书写顺序，主要包含文档标题、目录、章节、图表及具体文字内容等，通常配合一些基本命令的使用，来形成我们期望的文档。下面给出了一个简单例子，让读者对如何制作一个包含标题、章节及其文字内容的简单文档能有一个比较粗略的认识，更具体的语法命令我们将在后续章节中依次介绍。\n",
    "\n",
    "```tex\n",
    "\\documentclass{article}\n",
    "\\title{LaTeX cook-book}\n",
    "\n",
    "\\begin{document}\n",
    "\\maketitle\n",
    "\\section{Introduction}\n",
    "\n",
    "Hello, LaTeXers! This is our first LaTeX document.\n",
    "\n",
    "\\end{document}\n",
    "```\n"
   ]
  },
  {
   "cell_type": "markdown",
   "metadata": {},
   "source": [
    "【回放】[**2.1 LaTeX语法规则**](https://nbviewer.jupyter.org/github/xinychen/latex-cookbook/blob/main/chapter-2/section1.ipynb)\n",
    "\n",
    "【继续】[**2.3 文档类型的介绍**](https://nbviewer.jupyter.org/github/xinychen/latex-cookbook/blob/main/chapter-2/section3.ipynb)"
   ]
  },
  {
   "cell_type": "markdown",
   "metadata": {},
   "source": [
    "### License\n",
    "\n",
    "<div class=\"alert alert-block alert-danger\">\n",
    "<b>This work is released under the MIT license.</b>\n",
    "</div>"
   ]
  }
 ],
 "metadata": {
  "kernelspec": {
   "display_name": "Python 3",
   "language": "python",
   "name": "python3"
  },
  "language_info": {
   "codemirror_mode": {
    "name": "ipython",
    "version": 3
   },
   "file_extension": ".py",
   "mimetype": "text/x-python",
   "name": "python",
   "nbconvert_exporter": "python",
   "pygments_lexer": "ipython3",
   "version": "3.8.3"
  }
 },
 "nbformat": 4,
 "nbformat_minor": 4
}
