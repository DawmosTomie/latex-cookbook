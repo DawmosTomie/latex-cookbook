{
 "cells": [
  {
   "cell_type": "markdown",
   "metadata": {},
   "source": [
    "# 内容简介\n",
    "\n",
    "\n",
    "LaTeX是国际上数学、物理、计算机等科技领域科技论文撰写的必备工具之一。本书从LaTeX的发展历史出发，以如何使用LaTeX撰写科技文档为中心，从文档类型介绍、文本编辑、公式编辑、图表绘制、文献引用、幻灯片制作及其他文档制作等方面说明了如何使用LaTeX有效地生成科技文档。\n",
    "\n",
    "为了使读者可以快速熟悉LaTeX，并进行科技文档编辑操作，本书给出了大量实例、代码，让读者可以直观地了解如何使用LaTeX进行科技文档的编辑。\n",
    "\n",
    "本书适合在论文写作中被word等常用文档编辑软件繁琐的格式调整所困扰及对公式编辑及图形绘制有高质量要求高校师生和科研院所的科研人员阅读，也适合作为高等院校数学、物理、计算机等学科研究生的教材。"
   ]
  },
  {
   "cell_type": "markdown",
   "metadata": {},
   "source": [
    "### License\n",
    "\n",
    "<div class=\"alert alert-block alert-danger\">\n",
    "<b>This work is released under the MIT license.</b>\n",
    "</div>"
   ]
  }
 ],
 "metadata": {
  "kernelspec": {
   "display_name": "Python 3",
   "language": "python",
   "name": "python3"
  },
  "language_info": {
   "codemirror_mode": {
    "name": "ipython",
    "version": 3
   },
   "file_extension": ".py",
   "mimetype": "text/x-python",
   "name": "python",
   "nbconvert_exporter": "python",
   "pygments_lexer": "ipython3",
   "version": "3.8.8"
  }
 },
 "nbformat": 4,
 "nbformat_minor": 4
}
