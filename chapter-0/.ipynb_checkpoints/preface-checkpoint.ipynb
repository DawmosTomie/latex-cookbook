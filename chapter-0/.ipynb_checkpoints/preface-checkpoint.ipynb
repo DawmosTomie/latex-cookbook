{
 "cells": [
  {
   "cell_type": "markdown",
   "metadata": {},
   "source": [
    "# 第一章 LaTeX的出现与发展\n",
    "\n",
    "## 导言\n",
    "\n",
    "1977年，计算机科学家克努斯博士[1]开发了一款名为TeX的文档排版系统，作为一种计算机程序语言，它能够专门用于制作各类技术文档，并且对制作包含数学公式的技术文档具有良好的适用性。克努斯博士开发TeX其实存在一些意外：上世纪70年代，克努斯博士在修改自己的著作时，由于当时的排版质量差到让他难以容忍，所以他便转而开始思考能否开发出高质量的文档排版系统。\n",
    "\n",
    "在使用过程中，TeX制作文档的方式非常特殊，与今天常用的办公软件Word等截然不同，它是完全使用计算机程序语言来制作文档的。由于其对计算机语言的高度依赖，这款系统的使用门槛较高，但也具有很多优点，其中最为人称道的优点是它可以书写大量复杂的数学表达式。基于TeX，兰波特博士于1985年开发了另一款文档排版系统，名为LaTeX，兰波特博士设计这款系统初衷是让人们从排版样式这些繁琐的细节中解放出来，从而将精力集中在文档结构和文档内容上，这一做法很快便让LaTeX取代了TeX。后来，LaTeX的众多开发者对LaTeX最初版本进行了更新和提升，也就是我们今天一直在用的LaTeX。\n",
    "\n",
    "> [1] Donald E. Knuth，直译名为唐纳德·尔文·克努斯，中文名为高德纳，美国计算机科学家，现代计算机科学的先驱人物，在计算机科学及数学领域著有多部影响深远的著作，于1974年获得图灵奖。\n",
    ">\n",
    "> [2] Leslie Lamport，直译名为莱斯利·兰波特，美国计算机科学家，于2013年获得图灵奖，他获得图灵奖的原因并非在于开发了LaTeX，而是源于他在所研究的学术领域做出的突出贡献。\n",
    "\n",
    "实际上，基于特定的计算机程序语言，LaTeX更像是一个用于文档排版的宏包 (macro-package)，即“广义的工具包”。在使用LaTeX时，我们通常要新建一个文档文件，例如`myfile.tex`，如我们所见，文件是以`.tex`为拓展名，对这个文件进行编译，我们最终可以制作出一个PDF文档。与其他计算机程序语言（例如C、C++）不同的是，LaTeX中的计算机程序语言非常简单，只要多加练习便能熟练掌握相应的使用技巧。不容忽视的是，LaTeX制作文档的功能丝毫不弱于常用办公软件Word等，甚至在科技文档、技术报告、学位论文、书籍等文档的制作中有着较大的优势。当然，LaTeX也可以用来制作幻灯片、信件、海报、简历，更有甚者，我们可以用LaTeX进行科技绘图。因此，LaTeX被很多科研工作者视为必备的“科研神器”。\n"
   ]
  },
  {
   "cell_type": "markdown",
   "metadata": {},
   "source": [
    "【继续】[**1.1 横空出世的TeX**](https://nbviewer.jupyter.org/github/xinychen/latex-cookbook/blob/main/chapter-1/section1.ipynb)"
   ]
  },
  {
   "cell_type": "markdown",
   "metadata": {},
   "source": [
    "### License\n",
    "\n",
    "<div class=\"alert alert-block alert-danger\">\n",
    "<b>This work is released under the MIT license.</b>\n",
    "</div>"
   ]
  }
 ],
 "metadata": {
  "kernelspec": {
   "display_name": "Python 3",
   "language": "python",
   "name": "python3"
  },
  "language_info": {
   "codemirror_mode": {
    "name": "ipython",
    "version": 3
   },
   "file_extension": ".py",
   "mimetype": "text/x-python",
   "name": "python",
   "nbconvert_exporter": "python",
   "pygments_lexer": "ipython3",
   "version": "3.6.12"
  }
 },
 "nbformat": 4,
 "nbformat_minor": 4
}
